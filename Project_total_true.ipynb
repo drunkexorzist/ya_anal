{
 "cells": [
  {
   "cell_type": "markdown",
   "id": "d0b4ac69-368f-48e4-929f-830d9590ef23",
   "metadata": {
    "pycharm": {
     "name": "#%% md\n"
    }
   },
   "source": [
    "__Цель__\n"
   ]
  },
  {
   "cell_type": "markdown",
   "id": "7b877372-aefb-4fe3-9191-82802c4efd73",
   "metadata": {
    "pycharm": {
     "name": "#%% md\n"
    }
   },
   "source": [
    "__Ход исследования__"
   ]
  },
  {
   "cell_type": "markdown",
   "id": "900ccf61-6588-41de-b4c5-ffd932c4892b",
   "metadata": {
    "pycharm": {
     "name": "#%% md\n"
    }
   },
   "source": [
    "<div class=\"alert alert-info\">\n",
    "    \n",
    "__Шаг 1__\n"
   ]
  },
  {
   "cell_type": "code",
   "execution_count": 1,
   "id": "f73fbfbc-3c77-4b8b-8e49-e84a14ffbe01",
   "metadata": {
    "pycharm": {
     "name": "#%%\n"
    }
   },
   "outputs": [],
   "source": [
    "#загрузили датасет\n",
    "import pandas as pd\n",
    "\n",
    "try:\n",
    "    data = pd.read_csv('/datasets/games.csv')\n",
    "except:\n",
    "    data = pd.read_csv('games.csv')"
   ]
  },
  {
   "cell_type": "markdown",
   "id": "1fec40d7-c03d-4fbf-9580-fd47dd413408",
   "metadata": {
    "pycharm": {
     "name": "#%% md\n"
    }
   },
   "source": [
    "<div class=\"alert alert-info\">\n",
    "    \n",
    "__Шаг 2__\n"
   ]
  },
  {
   "cell_type": "code",
   "execution_count": 2,
   "id": "e6764845",
   "metadata": {
    "pycharm": {
     "name": "#%%\n"
    }
   },
   "outputs": [],
   "source": [
    "#привели названия столбцов к нижнему регистру\n",
    "data.columns = map(str.lower, data.columns)"
   ]
  },
  {
   "cell_type": "code",
   "execution_count": 3,
   "id": "c26bff91-22fb-4ed1-a5ff-ed5b27aa147e",
   "metadata": {
    "pycharm": {
     "name": "#%%\n"
    }
   },
   "outputs": [
    {
     "data": {
      "text/plain": "                                name platform  year_of_release         genre  \\\n0                         Wii Sports      Wii           2006.0        Sports   \n1                  Super Mario Bros.      NES           1985.0      Platform   \n2                     Mario Kart Wii      Wii           2008.0        Racing   \n3                  Wii Sports Resort      Wii           2009.0        Sports   \n4           Pokemon Red/Pokemon Blue       GB           1996.0  Role-Playing   \n...                              ...      ...              ...           ...   \n16710  Samurai Warriors: Sanada Maru      PS3           2016.0        Action   \n16711               LMA Manager 2007     X360           2006.0        Sports   \n16712        Haitaka no Psychedelica      PSV           2016.0     Adventure   \n16713               Spirits & Spells      GBA           2003.0      Platform   \n16714            Winning Post 8 2016      PSV           2016.0    Simulation   \n\n       na_sales  eu_sales  jp_sales  other_sales  critic_score user_score  \\\n0         41.36     28.96      3.77         8.45          76.0          8   \n1         29.08      3.58      6.81         0.77           NaN        NaN   \n2         15.68     12.76      3.79         3.29          82.0        8.3   \n3         15.61     10.93      3.28         2.95          80.0          8   \n4         11.27      8.89     10.22         1.00           NaN        NaN   \n...         ...       ...       ...          ...           ...        ...   \n16710      0.00      0.00      0.01         0.00           NaN        NaN   \n16711      0.00      0.01      0.00         0.00           NaN        NaN   \n16712      0.00      0.00      0.01         0.00           NaN        NaN   \n16713      0.01      0.00      0.00         0.00           NaN        NaN   \n16714      0.00      0.00      0.01         0.00           NaN        NaN   \n\n      rating  \n0          E  \n1        NaN  \n2          E  \n3          E  \n4        NaN  \n...      ...  \n16710    NaN  \n16711    NaN  \n16712    NaN  \n16713    NaN  \n16714    NaN  \n\n[16715 rows x 11 columns]",
      "text/html": "<div>\n<style scoped>\n    .dataframe tbody tr th:only-of-type {\n        vertical-align: middle;\n    }\n\n    .dataframe tbody tr th {\n        vertical-align: top;\n    }\n\n    .dataframe thead th {\n        text-align: right;\n    }\n</style>\n<table border=\"1\" class=\"dataframe\">\n  <thead>\n    <tr style=\"text-align: right;\">\n      <th></th>\n      <th>name</th>\n      <th>platform</th>\n      <th>year_of_release</th>\n      <th>genre</th>\n      <th>na_sales</th>\n      <th>eu_sales</th>\n      <th>jp_sales</th>\n      <th>other_sales</th>\n      <th>critic_score</th>\n      <th>user_score</th>\n      <th>rating</th>\n    </tr>\n  </thead>\n  <tbody>\n    <tr>\n      <th>0</th>\n      <td>Wii Sports</td>\n      <td>Wii</td>\n      <td>2006.0</td>\n      <td>Sports</td>\n      <td>41.36</td>\n      <td>28.96</td>\n      <td>3.77</td>\n      <td>8.45</td>\n      <td>76.0</td>\n      <td>8</td>\n      <td>E</td>\n    </tr>\n    <tr>\n      <th>1</th>\n      <td>Super Mario Bros.</td>\n      <td>NES</td>\n      <td>1985.0</td>\n      <td>Platform</td>\n      <td>29.08</td>\n      <td>3.58</td>\n      <td>6.81</td>\n      <td>0.77</td>\n      <td>NaN</td>\n      <td>NaN</td>\n      <td>NaN</td>\n    </tr>\n    <tr>\n      <th>2</th>\n      <td>Mario Kart Wii</td>\n      <td>Wii</td>\n      <td>2008.0</td>\n      <td>Racing</td>\n      <td>15.68</td>\n      <td>12.76</td>\n      <td>3.79</td>\n      <td>3.29</td>\n      <td>82.0</td>\n      <td>8.3</td>\n      <td>E</td>\n    </tr>\n    <tr>\n      <th>3</th>\n      <td>Wii Sports Resort</td>\n      <td>Wii</td>\n      <td>2009.0</td>\n      <td>Sports</td>\n      <td>15.61</td>\n      <td>10.93</td>\n      <td>3.28</td>\n      <td>2.95</td>\n      <td>80.0</td>\n      <td>8</td>\n      <td>E</td>\n    </tr>\n    <tr>\n      <th>4</th>\n      <td>Pokemon Red/Pokemon Blue</td>\n      <td>GB</td>\n      <td>1996.0</td>\n      <td>Role-Playing</td>\n      <td>11.27</td>\n      <td>8.89</td>\n      <td>10.22</td>\n      <td>1.00</td>\n      <td>NaN</td>\n      <td>NaN</td>\n      <td>NaN</td>\n    </tr>\n    <tr>\n      <th>...</th>\n      <td>...</td>\n      <td>...</td>\n      <td>...</td>\n      <td>...</td>\n      <td>...</td>\n      <td>...</td>\n      <td>...</td>\n      <td>...</td>\n      <td>...</td>\n      <td>...</td>\n      <td>...</td>\n    </tr>\n    <tr>\n      <th>16710</th>\n      <td>Samurai Warriors: Sanada Maru</td>\n      <td>PS3</td>\n      <td>2016.0</td>\n      <td>Action</td>\n      <td>0.00</td>\n      <td>0.00</td>\n      <td>0.01</td>\n      <td>0.00</td>\n      <td>NaN</td>\n      <td>NaN</td>\n      <td>NaN</td>\n    </tr>\n    <tr>\n      <th>16711</th>\n      <td>LMA Manager 2007</td>\n      <td>X360</td>\n      <td>2006.0</td>\n      <td>Sports</td>\n      <td>0.00</td>\n      <td>0.01</td>\n      <td>0.00</td>\n      <td>0.00</td>\n      <td>NaN</td>\n      <td>NaN</td>\n      <td>NaN</td>\n    </tr>\n    <tr>\n      <th>16712</th>\n      <td>Haitaka no Psychedelica</td>\n      <td>PSV</td>\n      <td>2016.0</td>\n      <td>Adventure</td>\n      <td>0.00</td>\n      <td>0.00</td>\n      <td>0.01</td>\n      <td>0.00</td>\n      <td>NaN</td>\n      <td>NaN</td>\n      <td>NaN</td>\n    </tr>\n    <tr>\n      <th>16713</th>\n      <td>Spirits &amp; Spells</td>\n      <td>GBA</td>\n      <td>2003.0</td>\n      <td>Platform</td>\n      <td>0.01</td>\n      <td>0.00</td>\n      <td>0.00</td>\n      <td>0.00</td>\n      <td>NaN</td>\n      <td>NaN</td>\n      <td>NaN</td>\n    </tr>\n    <tr>\n      <th>16714</th>\n      <td>Winning Post 8 2016</td>\n      <td>PSV</td>\n      <td>2016.0</td>\n      <td>Simulation</td>\n      <td>0.00</td>\n      <td>0.00</td>\n      <td>0.01</td>\n      <td>0.00</td>\n      <td>NaN</td>\n      <td>NaN</td>\n      <td>NaN</td>\n    </tr>\n  </tbody>\n</table>\n<p>16715 rows × 11 columns</p>\n</div>"
     },
     "execution_count": 3,
     "metadata": {},
     "output_type": "execute_result"
    }
   ],
   "source": [
    "data"
   ]
  },
  {
   "cell_type": "code",
   "execution_count": 20,
   "id": "b3ccff63",
   "metadata": {
    "pycharm": {
     "name": "#%%\n"
    }
   },
   "outputs": [
    {
     "name": "stdout",
     "output_type": "stream",
     "text": [
      "<class 'pandas.core.frame.DataFrame'>\n",
      "RangeIndex: 16715 entries, 0 to 16714\n",
      "Data columns (total 11 columns):\n",
      " #   Column           Non-Null Count  Dtype  \n",
      "---  ------           --------------  -----  \n",
      " 0   name             16713 non-null  object \n",
      " 1   platform         16715 non-null  object \n",
      " 2   year_of_release  16446 non-null  float64\n",
      " 3   genre            16713 non-null  object \n",
      " 4   na_sales         16715 non-null  float64\n",
      " 5   eu_sales         16715 non-null  float64\n",
      " 6   jp_sales         16715 non-null  float64\n",
      " 7   other_sales      16715 non-null  float64\n",
      " 8   critic_score     8137 non-null   float64\n",
      " 9   user_score       10014 non-null  object \n",
      " 10  rating           9949 non-null   object \n",
      "dtypes: float64(6), object(5)\n",
      "memory usage: 1.4+ MB\n",
      "None\n"
     ]
    }
   ],
   "source": [
    "#посомтрим на данные по внимательней\n",
    "print(data.info())"
   ]
  },
  {
   "cell_type": "code",
   "execution_count": 21,
   "id": "b2106d88-8261-47f2-89bb-68dac066ff99",
   "metadata": {
    "pycharm": {
     "name": "#%%\n"
    }
   },
   "outputs": [
    {
     "data": {
      "text/plain": [
       "name                  2\n",
       "platform              0\n",
       "year_of_release     269\n",
       "genre                 2\n",
       "na_sales              0\n",
       "eu_sales              0\n",
       "jp_sales              0\n",
       "other_sales           0\n",
       "critic_score       8578\n",
       "user_score         6701\n",
       "rating             6766\n",
       "dtype: int64"
      ]
     },
     "execution_count": 21,
     "metadata": {},
     "output_type": "execute_result"
    }
   ],
   "source": [
    "#проверка на явные пропуски \n",
    "data.isna().sum()"
   ]
  },
  {
   "cell_type": "markdown",
   "id": "bafaadf2-6677-4a10-9639-4e19fd2d992b",
   "metadata": {
    "pycharm": {
     "name": "#%% md\n"
    }
   },
   "source": [
    "Наблюдаем пропуски в названии игры (скорее всего 2 значения были пропущены случайно). Пропущен маленький процент 269/16713*100 = 1,6% года выпуска игры. У половины игр оценка критиков отсутвует, у 40% нет пользовательских оценок и рейтинга от ассоциации ESRB."
   ]
  },
  {
   "cell_type": "code",
   "execution_count": 43,
   "id": "51b8a79b-3ae4-4857-aade-50d0dca1f395",
   "metadata": {
    "pycharm": {
     "name": "#%%\n"
    }
   },
   "outputs": [],
   "source": [
    "# Отсекаем нулы, заменяем tbd на 0\n",
    "data = data.fillna(0)\n",
    "data[data['user_score'] == 'tbd'] = 0\n",
    "data['user_score'] = data['user_score'].astype('float64')"
   ]
  },
  {
   "cell_type": "code",
   "execution_count": 44,
   "id": "79277f0d-9a58-4baf-8c18-4e75a148216f",
   "metadata": {
    "pycharm": {
     "name": "#%%\n"
    }
   },
   "outputs": [],
   "source": [
    "#продажи каждой игры в всех регионах \n",
    "data['sales_sum'] = data['na_sales'] + data['eu_sales'] + data['jp_sales']"
   ]
  },
  {
   "cell_type": "markdown",
   "id": "fd6234e4-d6f2-4760-b0ef-d8116d44e0e3",
   "metadata": {
    "pycharm": {
     "name": "#%% md\n"
    }
   },
   "source": [
    "<div class=\"alert alert-info\">\n",
    "    \n",
    "__Шаг 3__"
   ]
  },
  {
   "cell_type": "code",
   "execution_count": 24,
   "id": "4a23a5e5-7578-42f5-b0a1-19c1917168bc",
   "metadata": {
    "pycharm": {
     "name": "#%%\n"
    }
   },
   "outputs": [
    {
     "data": {
      "text/html": [
       "<div>\n",
       "<style scoped>\n",
       "    .dataframe tbody tr th:only-of-type {\n",
       "        vertical-align: middle;\n",
       "    }\n",
       "\n",
       "    .dataframe tbody tr th {\n",
       "        vertical-align: top;\n",
       "    }\n",
       "\n",
       "    .dataframe thead th {\n",
       "        text-align: right;\n",
       "    }\n",
       "</style>\n",
       "<table border=\"1\" class=\"dataframe\">\n",
       "  <thead>\n",
       "    <tr style=\"text-align: right;\">\n",
       "      <th></th>\n",
       "      <th>name</th>\n",
       "    </tr>\n",
       "    <tr>\n",
       "      <th>year_of_release</th>\n",
       "      <th></th>\n",
       "    </tr>\n",
       "  </thead>\n",
       "  <tbody>\n",
       "    <tr>\n",
       "      <th>0.0</th>\n",
       "      <td>2645</td>\n",
       "    </tr>\n",
       "    <tr>\n",
       "      <th>1980.0</th>\n",
       "      <td>9</td>\n",
       "    </tr>\n",
       "    <tr>\n",
       "      <th>1981.0</th>\n",
       "      <td>46</td>\n",
       "    </tr>\n",
       "    <tr>\n",
       "      <th>1982.0</th>\n",
       "      <td>36</td>\n",
       "    </tr>\n",
       "    <tr>\n",
       "      <th>1983.0</th>\n",
       "      <td>17</td>\n",
       "    </tr>\n",
       "    <tr>\n",
       "      <th>1984.0</th>\n",
       "      <td>14</td>\n",
       "    </tr>\n",
       "    <tr>\n",
       "      <th>1985.0</th>\n",
       "      <td>14</td>\n",
       "    </tr>\n",
       "    <tr>\n",
       "      <th>1986.0</th>\n",
       "      <td>21</td>\n",
       "    </tr>\n",
       "    <tr>\n",
       "      <th>1987.0</th>\n",
       "      <td>16</td>\n",
       "    </tr>\n",
       "    <tr>\n",
       "      <th>1988.0</th>\n",
       "      <td>15</td>\n",
       "    </tr>\n",
       "    <tr>\n",
       "      <th>1989.0</th>\n",
       "      <td>17</td>\n",
       "    </tr>\n",
       "    <tr>\n",
       "      <th>1990.0</th>\n",
       "      <td>16</td>\n",
       "    </tr>\n",
       "    <tr>\n",
       "      <th>1991.0</th>\n",
       "      <td>41</td>\n",
       "    </tr>\n",
       "    <tr>\n",
       "      <th>1992.0</th>\n",
       "      <td>43</td>\n",
       "    </tr>\n",
       "    <tr>\n",
       "      <th>1993.0</th>\n",
       "      <td>62</td>\n",
       "    </tr>\n",
       "    <tr>\n",
       "      <th>1994.0</th>\n",
       "      <td>121</td>\n",
       "    </tr>\n",
       "    <tr>\n",
       "      <th>1995.0</th>\n",
       "      <td>219</td>\n",
       "    </tr>\n",
       "    <tr>\n",
       "      <th>1996.0</th>\n",
       "      <td>263</td>\n",
       "    </tr>\n",
       "    <tr>\n",
       "      <th>1997.0</th>\n",
       "      <td>288</td>\n",
       "    </tr>\n",
       "    <tr>\n",
       "      <th>1998.0</th>\n",
       "      <td>379</td>\n",
       "    </tr>\n",
       "    <tr>\n",
       "      <th>1999.0</th>\n",
       "      <td>330</td>\n",
       "    </tr>\n",
       "    <tr>\n",
       "      <th>2000.0</th>\n",
       "      <td>307</td>\n",
       "    </tr>\n",
       "    <tr>\n",
       "      <th>2001.0</th>\n",
       "      <td>400</td>\n",
       "    </tr>\n",
       "    <tr>\n",
       "      <th>2002.0</th>\n",
       "      <td>637</td>\n",
       "    </tr>\n",
       "    <tr>\n",
       "      <th>2003.0</th>\n",
       "      <td>680</td>\n",
       "    </tr>\n",
       "    <tr>\n",
       "      <th>2004.0</th>\n",
       "      <td>655</td>\n",
       "    </tr>\n",
       "    <tr>\n",
       "      <th>2005.0</th>\n",
       "      <td>818</td>\n",
       "    </tr>\n",
       "    <tr>\n",
       "      <th>2006.0</th>\n",
       "      <td>882</td>\n",
       "    </tr>\n",
       "    <tr>\n",
       "      <th>2007.0</th>\n",
       "      <td>1005</td>\n",
       "    </tr>\n",
       "    <tr>\n",
       "      <th>2008.0</th>\n",
       "      <td>1101</td>\n",
       "    </tr>\n",
       "    <tr>\n",
       "      <th>2009.0</th>\n",
       "      <td>1021</td>\n",
       "    </tr>\n",
       "    <tr>\n",
       "      <th>2010.0</th>\n",
       "      <td>924</td>\n",
       "    </tr>\n",
       "    <tr>\n",
       "      <th>2011.0</th>\n",
       "      <td>919</td>\n",
       "    </tr>\n",
       "    <tr>\n",
       "      <th>2012.0</th>\n",
       "      <td>629</td>\n",
       "    </tr>\n",
       "    <tr>\n",
       "      <th>2013.0</th>\n",
       "      <td>529</td>\n",
       "    </tr>\n",
       "    <tr>\n",
       "      <th>2014.0</th>\n",
       "      <td>560</td>\n",
       "    </tr>\n",
       "    <tr>\n",
       "      <th>2015.0</th>\n",
       "      <td>568</td>\n",
       "    </tr>\n",
       "    <tr>\n",
       "      <th>2016.0</th>\n",
       "      <td>468</td>\n",
       "    </tr>\n",
       "  </tbody>\n",
       "</table>\n",
       "</div>"
      ],
      "text/plain": [
       "                 name\n",
       "year_of_release      \n",
       "0.0              2645\n",
       "1980.0              9\n",
       "1981.0             46\n",
       "1982.0             36\n",
       "1983.0             17\n",
       "1984.0             14\n",
       "1985.0             14\n",
       "1986.0             21\n",
       "1987.0             16\n",
       "1988.0             15\n",
       "1989.0             17\n",
       "1990.0             16\n",
       "1991.0             41\n",
       "1992.0             43\n",
       "1993.0             62\n",
       "1994.0            121\n",
       "1995.0            219\n",
       "1996.0            263\n",
       "1997.0            288\n",
       "1998.0            379\n",
       "1999.0            330\n",
       "2000.0            307\n",
       "2001.0            400\n",
       "2002.0            637\n",
       "2003.0            680\n",
       "2004.0            655\n",
       "2005.0            818\n",
       "2006.0            882\n",
       "2007.0           1005\n",
       "2008.0           1101\n",
       "2009.0           1021\n",
       "2010.0            924\n",
       "2011.0            919\n",
       "2012.0            629\n",
       "2013.0            529\n",
       "2014.0            560\n",
       "2015.0            568\n",
       "2016.0            468"
      ]
     },
     "execution_count": 24,
     "metadata": {},
     "output_type": "execute_result"
    }
   ],
   "source": [
    "# Продажи по годам\n",
    "data[['name', 'year_of_release']].groupby('year_of_release').count()"
   ]
  },
  {
   "cell_type": "markdown",
   "id": "6fcf2854-b2d2-49ce-944b-9d9a6f04f575",
   "metadata": {
    "pycharm": {
     "name": "#%% md\n"
    }
   },
   "source": [
    "Объем выпущенных игр до 1994 года не превывашет 100, и только после начинается рост. Есть смысл только на период с 1994 по 2016."
   ]
  },
  {
   "cell_type": "code",
   "execution_count": 25,
   "id": "1c075739-17b2-43ef-ad3d-31b9a4162b6d",
   "metadata": {
    "pycharm": {
     "name": "#%%\n"
    }
   },
   "outputs": [
    {
     "data": {
      "text/html": [
       "<div>\n",
       "<style scoped>\n",
       "    .dataframe tbody tr th:only-of-type {\n",
       "        vertical-align: middle;\n",
       "    }\n",
       "\n",
       "    .dataframe tbody tr th {\n",
       "        vertical-align: top;\n",
       "    }\n",
       "\n",
       "    .dataframe thead th {\n",
       "        text-align: right;\n",
       "    }\n",
       "</style>\n",
       "<table border=\"1\" class=\"dataframe\">\n",
       "  <thead>\n",
       "    <tr style=\"text-align: right;\">\n",
       "      <th></th>\n",
       "      <th>name</th>\n",
       "    </tr>\n",
       "    <tr>\n",
       "      <th>platform</th>\n",
       "      <th></th>\n",
       "    </tr>\n",
       "  </thead>\n",
       "  <tbody>\n",
       "    <tr>\n",
       "      <th>0</th>\n",
       "      <td>2424</td>\n",
       "    </tr>\n",
       "    <tr>\n",
       "      <th>2600</th>\n",
       "      <td>133</td>\n",
       "    </tr>\n",
       "    <tr>\n",
       "      <th>3DO</th>\n",
       "      <td>3</td>\n",
       "    </tr>\n",
       "    <tr>\n",
       "      <th>3DS</th>\n",
       "      <td>464</td>\n",
       "    </tr>\n",
       "    <tr>\n",
       "      <th>DC</th>\n",
       "      <td>52</td>\n",
       "    </tr>\n",
       "    <tr>\n",
       "      <th>DS</th>\n",
       "      <td>1395</td>\n",
       "    </tr>\n",
       "    <tr>\n",
       "      <th>GB</th>\n",
       "      <td>98</td>\n",
       "    </tr>\n",
       "    <tr>\n",
       "      <th>GBA</th>\n",
       "      <td>560</td>\n",
       "    </tr>\n",
       "    <tr>\n",
       "      <th>GC</th>\n",
       "      <td>453</td>\n",
       "    </tr>\n",
       "    <tr>\n",
       "      <th>GEN</th>\n",
       "      <td>29</td>\n",
       "    </tr>\n",
       "    <tr>\n",
       "      <th>GG</th>\n",
       "      <td>1</td>\n",
       "    </tr>\n",
       "    <tr>\n",
       "      <th>N64</th>\n",
       "      <td>319</td>\n",
       "    </tr>\n",
       "    <tr>\n",
       "      <th>NES</th>\n",
       "      <td>98</td>\n",
       "    </tr>\n",
       "    <tr>\n",
       "      <th>NG</th>\n",
       "      <td>12</td>\n",
       "    </tr>\n",
       "    <tr>\n",
       "      <th>PC</th>\n",
       "      <td>925</td>\n",
       "    </tr>\n",
       "    <tr>\n",
       "      <th>PCFX</th>\n",
       "      <td>1</td>\n",
       "    </tr>\n",
       "    <tr>\n",
       "      <th>PS</th>\n",
       "      <td>1152</td>\n",
       "    </tr>\n",
       "    <tr>\n",
       "      <th>PS2</th>\n",
       "      <td>1921</td>\n",
       "    </tr>\n",
       "    <tr>\n",
       "      <th>PS3</th>\n",
       "      <td>1244</td>\n",
       "    </tr>\n",
       "    <tr>\n",
       "      <th>PS4</th>\n",
       "      <td>386</td>\n",
       "    </tr>\n",
       "    <tr>\n",
       "      <th>PSP</th>\n",
       "      <td>1086</td>\n",
       "    </tr>\n",
       "    <tr>\n",
       "      <th>PSV</th>\n",
       "      <td>423</td>\n",
       "    </tr>\n",
       "    <tr>\n",
       "      <th>SAT</th>\n",
       "      <td>173</td>\n",
       "    </tr>\n",
       "    <tr>\n",
       "      <th>SCD</th>\n",
       "      <td>6</td>\n",
       "    </tr>\n",
       "    <tr>\n",
       "      <th>SNES</th>\n",
       "      <td>239</td>\n",
       "    </tr>\n",
       "    <tr>\n",
       "      <th>TG16</th>\n",
       "      <td>2</td>\n",
       "    </tr>\n",
       "    <tr>\n",
       "      <th>WS</th>\n",
       "      <td>6</td>\n",
       "    </tr>\n",
       "    <tr>\n",
       "      <th>Wii</th>\n",
       "      <td>880</td>\n",
       "    </tr>\n",
       "    <tr>\n",
       "      <th>WiiU</th>\n",
       "      <td>142</td>\n",
       "    </tr>\n",
       "    <tr>\n",
       "      <th>X360</th>\n",
       "      <td>1178</td>\n",
       "    </tr>\n",
       "    <tr>\n",
       "      <th>XB</th>\n",
       "      <td>674</td>\n",
       "    </tr>\n",
       "    <tr>\n",
       "      <th>XOne</th>\n",
       "      <td>236</td>\n",
       "    </tr>\n",
       "  </tbody>\n",
       "</table>\n",
       "</div>"
      ],
      "text/plain": [
       "          name\n",
       "platform      \n",
       "0         2424\n",
       "2600       133\n",
       "3DO          3\n",
       "3DS        464\n",
       "DC          52\n",
       "DS        1395\n",
       "GB          98\n",
       "GBA        560\n",
       "GC         453\n",
       "GEN         29\n",
       "GG           1\n",
       "N64        319\n",
       "NES         98\n",
       "NG          12\n",
       "PC         925\n",
       "PCFX         1\n",
       "PS        1152\n",
       "PS2       1921\n",
       "PS3       1244\n",
       "PS4        386\n",
       "PSP       1086\n",
       "PSV        423\n",
       "SAT        173\n",
       "SCD          6\n",
       "SNES       239\n",
       "TG16         2\n",
       "WS           6\n",
       "Wii        880\n",
       "WiiU       142\n",
       "X360      1178\n",
       "XB         674\n",
       "XOne       236"
      ]
     },
     "execution_count": 25,
     "metadata": {},
     "output_type": "execute_result"
    }
   ],
   "source": [
    "# Продажи по платформам\n",
    "data[['name', 'platform']].groupby('platform').count()"
   ]
  },
  {
   "cell_type": "code",
   "execution_count": null,
   "id": "71e91cc9-4075-4cae-ae82-c8ad1ddd2e2d",
   "metadata": {
    "pycharm": {
     "name": "#%%\n"
    }
   },
   "outputs": [],
   "source": [
    "#За какой характерный срок появляются новые и исчезают старые платформы?\n",
    "#думаю надо тут график какой-то с годами"
   ]
  },
  {
   "cell_type": "code",
   "execution_count": 26,
   "id": "ac68d15f-c7cc-4169-9b94-3dfdece5e860",
   "metadata": {
    "pycharm": {
     "name": "#%%\n"
    }
   },
   "outputs": [
    {
     "name": "stdout",
     "output_type": "stream",
     "text": [
      "<class 'pandas.core.frame.DataFrame'>\n",
      "RangeIndex: 16715 entries, 0 to 16714\n",
      "Data columns (total 1 columns):\n",
      " #   Column  Non-Null Count  Dtype \n",
      "---  ------  --------------  ----- \n",
      " 0   name    16715 non-null  object\n",
      "dtypes: object(1)\n",
      "memory usage: 130.7+ KB\n",
      "None\n"
     ]
    }
   ],
   "source": [
    "# •\tКакие платформы лидируют по продажам,\n",
    "\n"
   ]
  },
  {
   "cell_type": "markdown",
   "id": "2b35969f",
   "metadata": {
    "pycharm": {
     "name": "#%% md\n"
    }
   },
   "source": [
    "<div class=\"alert alert-info\">\n",
    "    \n",
    "__Шаг 4__\n"
   ]
  },
  {
   "cell_type": "code",
   "execution_count": null,
   "id": "1458a4dd-caff-4312-a9f1-c0a7425da508",
   "metadata": {
    "pycharm": {
     "name": "#%%\n"
    }
   },
   "outputs": [],
   "source": [
    "# тут из прошлого проекта\n",
    "#locality_name = df.pivot_table(index='locality_name', values='last_price', aggfunc=['count'])\n",
    "#locality_name.columns = ['count']\n",
    "#создаем список из верхних топ-10 городо\n",
    "\n",
    "#top10 = locality_name.sort_values(by='count', ascending=False).head(10)\n",
    "#for city in top10.index:\n",
    "#создает 10 столбцов вида (mean_price, Санкт-Петербург) со средним по городу в каждой строке\n",
    "#    top10[city] = df.query('locality_name == @city')['price_metr'].mean()\n",
    "#top10"
   ]
  },
  {
   "cell_type": "markdown",
   "id": "b5becfa9-a573-46aa-8b1a-f85c51480f03",
   "metadata": {
    "pycharm": {
     "name": "#%% md\n"
    }
   },
   "source": [
    "<div class=\"alert alert-info\">\n",
    "    \n",
    "__Шаг 5__\n"
   ]
  },
  {
   "cell_type": "code",
   "execution_count": 32,
   "id": "7de0fe39-a23d-484d-ac52-42098c7957a8",
   "metadata": {
    "pycharm": {
     "name": "#%%\n"
    }
   },
   "outputs": [
    {
     "ename": "SyntaxError",
     "evalue": "invalid syntax (1899786742.py, line 4)",
     "output_type": "error",
     "traceback": [
      "\u001B[1;36m  Input \u001B[1;32mIn [32]\u001B[1;36m\u001B[0m\n\u001B[1;33m    sample_2 = #срез по столбцу user_score и отбором по PC\u001B[0m\n\u001B[1;37m               ^\u001B[0m\n\u001B[1;31mSyntaxError\u001B[0m\u001B[1;31m:\u001B[0m invalid syntax\n"
     ]
    }
   ],
   "source": [
    "# Средние пользовательские рейтинги платформ Xbox One и PC одинаковые - нулевая гипотеза\n",
    "from scipy import stats as st\n",
    "sample_1 = data#срез по столбцу user_score и отбором по Xbox One\n",
    "sample_2 = #срез по столбцу user_score и отбором по PC\n",
    "results = st.ttest_ind(sample_1, sample_2, equal_var = True)\n",
    "print('p-значение: ', results.pvalue)\n",
    "\n",
    "alpha = .05\n",
    "\n",
    "if results.pvalue < alpha:\n",
    "    print(\"Отергаем нулевую гипотезу\")\n",
    "else:\n",
    "    print(\"Не получилось отвергнуть нулевую гипотезу\") \n"
   ]
  },
  {
   "cell_type": "code",
   "execution_count": null,
   "id": "0f466684-9792-4915-9f7b-e594f9924976",
   "metadata": {
    "pycharm": {
     "name": "#%%\n"
    }
   },
   "outputs": [],
   "source": [
    "data.platform.unique()"
   ]
  },
  {
   "cell_type": "code",
   "execution_count": 34,
   "id": "218e7491-7b23-477c-bd19-f403b2de1baa",
   "metadata": {
    "pycharm": {
     "name": "#%%\n"
    }
   },
   "outputs": [
    {
     "ename": "UndefinedVariableError",
     "evalue": "name 'PS' is not defined",
     "output_type": "error",
     "traceback": [
      "\u001B[1;31m---------------------------------------------------------------------------\u001B[0m",
      "\u001B[1;31mKeyError\u001B[0m                                  Traceback (most recent call last)",
      "File \u001B[1;32m~\\Anaconda3\\lib\\site-packages\\pandas\\core\\computation\\scope.py:195\u001B[0m, in \u001B[0;36mScope.resolve\u001B[1;34m(self, key, is_local)\u001B[0m\n\u001B[0;32m    194\u001B[0m \u001B[38;5;28;01mif\u001B[39;00m \u001B[38;5;28mself\u001B[39m\u001B[38;5;241m.\u001B[39mhas_resolvers:\n\u001B[1;32m--> 195\u001B[0m     \u001B[38;5;28;01mreturn\u001B[39;00m \u001B[38;5;28;43mself\u001B[39;49m\u001B[38;5;241;43m.\u001B[39;49m\u001B[43mresolvers\u001B[49m\u001B[43m[\u001B[49m\u001B[43mkey\u001B[49m\u001B[43m]\u001B[49m\n\u001B[0;32m    197\u001B[0m \u001B[38;5;66;03m# if we're here that means that we have no locals and we also have\u001B[39;00m\n\u001B[0;32m    198\u001B[0m \u001B[38;5;66;03m# no resolvers\u001B[39;00m\n",
      "File \u001B[1;32m~\\Anaconda3\\lib\\collections\\__init__.py:941\u001B[0m, in \u001B[0;36mChainMap.__getitem__\u001B[1;34m(self, key)\u001B[0m\n\u001B[0;32m    940\u001B[0m         \u001B[38;5;28;01mpass\u001B[39;00m\n\u001B[1;32m--> 941\u001B[0m \u001B[38;5;28;01mreturn\u001B[39;00m \u001B[38;5;28;43mself\u001B[39;49m\u001B[38;5;241;43m.\u001B[39;49m\u001B[38;5;21;43m__missing__\u001B[39;49m\u001B[43m(\u001B[49m\u001B[43mkey\u001B[49m\u001B[43m)\u001B[49m\n",
      "File \u001B[1;32m~\\Anaconda3\\lib\\collections\\__init__.py:933\u001B[0m, in \u001B[0;36mChainMap.__missing__\u001B[1;34m(self, key)\u001B[0m\n\u001B[0;32m    932\u001B[0m \u001B[38;5;28;01mdef\u001B[39;00m \u001B[38;5;21m__missing__\u001B[39m(\u001B[38;5;28mself\u001B[39m, key):\n\u001B[1;32m--> 933\u001B[0m     \u001B[38;5;28;01mraise\u001B[39;00m \u001B[38;5;167;01mKeyError\u001B[39;00m(key)\n",
      "\u001B[1;31mKeyError\u001B[0m: 'PS'",
      "\nDuring handling of the above exception, another exception occurred:\n",
      "\u001B[1;31mKeyError\u001B[0m                                  Traceback (most recent call last)",
      "File \u001B[1;32m~\\Anaconda3\\lib\\site-packages\\pandas\\core\\computation\\scope.py:206\u001B[0m, in \u001B[0;36mScope.resolve\u001B[1;34m(self, key, is_local)\u001B[0m\n\u001B[0;32m    202\u001B[0m \u001B[38;5;28;01mtry\u001B[39;00m:\n\u001B[0;32m    203\u001B[0m     \u001B[38;5;66;03m# last ditch effort we look in temporaries\u001B[39;00m\n\u001B[0;32m    204\u001B[0m     \u001B[38;5;66;03m# these are created when parsing indexing expressions\u001B[39;00m\n\u001B[0;32m    205\u001B[0m     \u001B[38;5;66;03m# e.g., df[df > 0]\u001B[39;00m\n\u001B[1;32m--> 206\u001B[0m     \u001B[38;5;28;01mreturn\u001B[39;00m \u001B[38;5;28;43mself\u001B[39;49m\u001B[38;5;241;43m.\u001B[39;49m\u001B[43mtemps\u001B[49m\u001B[43m[\u001B[49m\u001B[43mkey\u001B[49m\u001B[43m]\u001B[49m\n\u001B[0;32m    207\u001B[0m \u001B[38;5;28;01mexcept\u001B[39;00m \u001B[38;5;167;01mKeyError\u001B[39;00m \u001B[38;5;28;01mas\u001B[39;00m err:\n\u001B[0;32m    208\u001B[0m     \u001B[38;5;66;03m# runtime import because ops imports from scope\u001B[39;00m\n",
      "\u001B[1;31mKeyError\u001B[0m: 'PS'",
      "\nThe above exception was the direct cause of the following exception:\n",
      "\u001B[1;31mUndefinedVariableError\u001B[0m                    Traceback (most recent call last)",
      "Input \u001B[1;32mIn [34]\u001B[0m, in \u001B[0;36m<cell line: 1>\u001B[1;34m()\u001B[0m\n\u001B[1;32m----> 1\u001B[0m sample_1 \u001B[38;5;241m=\u001B[39m \u001B[43mdata\u001B[49m\u001B[38;5;241;43m.\u001B[39;49m\u001B[43mquery\u001B[49m\u001B[43m(\u001B[49m\u001B[38;5;124;43m'\u001B[39;49m\u001B[38;5;124;43mplatform == `PS`\u001B[39;49m\u001B[38;5;124;43m'\u001B[39;49m\u001B[43m)\u001B[49m\n\u001B[0;32m      2\u001B[0m sample_1\n",
      "File \u001B[1;32m~\\Anaconda3\\lib\\site-packages\\pandas\\core\\frame.py:4111\u001B[0m, in \u001B[0;36mDataFrame.query\u001B[1;34m(self, expr, inplace, **kwargs)\u001B[0m\n\u001B[0;32m   4109\u001B[0m kwargs[\u001B[38;5;124m\"\u001B[39m\u001B[38;5;124mlevel\u001B[39m\u001B[38;5;124m\"\u001B[39m] \u001B[38;5;241m=\u001B[39m kwargs\u001B[38;5;241m.\u001B[39mpop(\u001B[38;5;124m\"\u001B[39m\u001B[38;5;124mlevel\u001B[39m\u001B[38;5;124m\"\u001B[39m, \u001B[38;5;241m0\u001B[39m) \u001B[38;5;241m+\u001B[39m \u001B[38;5;241m1\u001B[39m\n\u001B[0;32m   4110\u001B[0m kwargs[\u001B[38;5;124m\"\u001B[39m\u001B[38;5;124mtarget\u001B[39m\u001B[38;5;124m\"\u001B[39m] \u001B[38;5;241m=\u001B[39m \u001B[38;5;28;01mNone\u001B[39;00m\n\u001B[1;32m-> 4111\u001B[0m res \u001B[38;5;241m=\u001B[39m \u001B[38;5;28mself\u001B[39m\u001B[38;5;241m.\u001B[39meval(expr, \u001B[38;5;241m*\u001B[39m\u001B[38;5;241m*\u001B[39mkwargs)\n\u001B[0;32m   4113\u001B[0m \u001B[38;5;28;01mtry\u001B[39;00m:\n\u001B[0;32m   4114\u001B[0m     result \u001B[38;5;241m=\u001B[39m \u001B[38;5;28mself\u001B[39m\u001B[38;5;241m.\u001B[39mloc[res]\n",
      "File \u001B[1;32m~\\Anaconda3\\lib\\site-packages\\pandas\\core\\frame.py:4240\u001B[0m, in \u001B[0;36mDataFrame.eval\u001B[1;34m(self, expr, inplace, **kwargs)\u001B[0m\n\u001B[0;32m   4237\u001B[0m     kwargs[\u001B[38;5;124m\"\u001B[39m\u001B[38;5;124mtarget\u001B[39m\u001B[38;5;124m\"\u001B[39m] \u001B[38;5;241m=\u001B[39m \u001B[38;5;28mself\u001B[39m\n\u001B[0;32m   4238\u001B[0m kwargs[\u001B[38;5;124m\"\u001B[39m\u001B[38;5;124mresolvers\u001B[39m\u001B[38;5;124m\"\u001B[39m] \u001B[38;5;241m=\u001B[39m \u001B[38;5;28mtuple\u001B[39m(kwargs\u001B[38;5;241m.\u001B[39mget(\u001B[38;5;124m\"\u001B[39m\u001B[38;5;124mresolvers\u001B[39m\u001B[38;5;124m\"\u001B[39m, ())) \u001B[38;5;241m+\u001B[39m resolvers\n\u001B[1;32m-> 4240\u001B[0m \u001B[38;5;28;01mreturn\u001B[39;00m _eval(expr, inplace\u001B[38;5;241m=\u001B[39minplace, \u001B[38;5;241m*\u001B[39m\u001B[38;5;241m*\u001B[39mkwargs)\n",
      "File \u001B[1;32m~\\Anaconda3\\lib\\site-packages\\pandas\\core\\computation\\eval.py:350\u001B[0m, in \u001B[0;36meval\u001B[1;34m(expr, parser, engine, truediv, local_dict, global_dict, resolvers, level, target, inplace)\u001B[0m\n\u001B[0;32m    341\u001B[0m \u001B[38;5;66;03m# get our (possibly passed-in) scope\u001B[39;00m\n\u001B[0;32m    342\u001B[0m env \u001B[38;5;241m=\u001B[39m ensure_scope(\n\u001B[0;32m    343\u001B[0m     level \u001B[38;5;241m+\u001B[39m \u001B[38;5;241m1\u001B[39m,\n\u001B[0;32m    344\u001B[0m     global_dict\u001B[38;5;241m=\u001B[39mglobal_dict,\n\u001B[1;32m   (...)\u001B[0m\n\u001B[0;32m    347\u001B[0m     target\u001B[38;5;241m=\u001B[39mtarget,\n\u001B[0;32m    348\u001B[0m )\n\u001B[1;32m--> 350\u001B[0m parsed_expr \u001B[38;5;241m=\u001B[39m \u001B[43mExpr\u001B[49m\u001B[43m(\u001B[49m\u001B[43mexpr\u001B[49m\u001B[43m,\u001B[49m\u001B[43m \u001B[49m\u001B[43mengine\u001B[49m\u001B[38;5;241;43m=\u001B[39;49m\u001B[43mengine\u001B[49m\u001B[43m,\u001B[49m\u001B[43m \u001B[49m\u001B[43mparser\u001B[49m\u001B[38;5;241;43m=\u001B[39;49m\u001B[43mparser\u001B[49m\u001B[43m,\u001B[49m\u001B[43m \u001B[49m\u001B[43menv\u001B[49m\u001B[38;5;241;43m=\u001B[39;49m\u001B[43menv\u001B[49m\u001B[43m)\u001B[49m\n\u001B[0;32m    352\u001B[0m \u001B[38;5;66;03m# construct the engine and evaluate the parsed expression\u001B[39;00m\n\u001B[0;32m    353\u001B[0m eng \u001B[38;5;241m=\u001B[39m ENGINES[engine]\n",
      "File \u001B[1;32m~\\Anaconda3\\lib\\site-packages\\pandas\\core\\computation\\expr.py:811\u001B[0m, in \u001B[0;36mExpr.__init__\u001B[1;34m(self, expr, engine, parser, env, level)\u001B[0m\n\u001B[0;32m    809\u001B[0m \u001B[38;5;28mself\u001B[39m\u001B[38;5;241m.\u001B[39mparser \u001B[38;5;241m=\u001B[39m parser\n\u001B[0;32m    810\u001B[0m \u001B[38;5;28mself\u001B[39m\u001B[38;5;241m.\u001B[39m_visitor \u001B[38;5;241m=\u001B[39m PARSERS[parser](\u001B[38;5;28mself\u001B[39m\u001B[38;5;241m.\u001B[39menv, \u001B[38;5;28mself\u001B[39m\u001B[38;5;241m.\u001B[39mengine, \u001B[38;5;28mself\u001B[39m\u001B[38;5;241m.\u001B[39mparser)\n\u001B[1;32m--> 811\u001B[0m \u001B[38;5;28mself\u001B[39m\u001B[38;5;241m.\u001B[39mterms \u001B[38;5;241m=\u001B[39m \u001B[38;5;28;43mself\u001B[39;49m\u001B[38;5;241;43m.\u001B[39;49m\u001B[43mparse\u001B[49m\u001B[43m(\u001B[49m\u001B[43m)\u001B[49m\n",
      "File \u001B[1;32m~\\Anaconda3\\lib\\site-packages\\pandas\\core\\computation\\expr.py:830\u001B[0m, in \u001B[0;36mExpr.parse\u001B[1;34m(self)\u001B[0m\n\u001B[0;32m    826\u001B[0m \u001B[38;5;28;01mdef\u001B[39;00m \u001B[38;5;21mparse\u001B[39m(\u001B[38;5;28mself\u001B[39m):\n\u001B[0;32m    827\u001B[0m     \u001B[38;5;124;03m\"\"\"\u001B[39;00m\n\u001B[0;32m    828\u001B[0m \u001B[38;5;124;03m    Parse an expression.\u001B[39;00m\n\u001B[0;32m    829\u001B[0m \u001B[38;5;124;03m    \"\"\"\u001B[39;00m\n\u001B[1;32m--> 830\u001B[0m     \u001B[38;5;28;01mreturn\u001B[39;00m \u001B[38;5;28;43mself\u001B[39;49m\u001B[38;5;241;43m.\u001B[39;49m\u001B[43m_visitor\u001B[49m\u001B[38;5;241;43m.\u001B[39;49m\u001B[43mvisit\u001B[49m\u001B[43m(\u001B[49m\u001B[38;5;28;43mself\u001B[39;49m\u001B[38;5;241;43m.\u001B[39;49m\u001B[43mexpr\u001B[49m\u001B[43m)\u001B[49m\n",
      "File \u001B[1;32m~\\Anaconda3\\lib\\site-packages\\pandas\\core\\computation\\expr.py:415\u001B[0m, in \u001B[0;36mBaseExprVisitor.visit\u001B[1;34m(self, node, **kwargs)\u001B[0m\n\u001B[0;32m    413\u001B[0m method \u001B[38;5;241m=\u001B[39m \u001B[38;5;124m\"\u001B[39m\u001B[38;5;124mvisit_\u001B[39m\u001B[38;5;124m\"\u001B[39m \u001B[38;5;241m+\u001B[39m \u001B[38;5;28mtype\u001B[39m(node)\u001B[38;5;241m.\u001B[39m\u001B[38;5;18m__name__\u001B[39m\n\u001B[0;32m    414\u001B[0m visitor \u001B[38;5;241m=\u001B[39m \u001B[38;5;28mgetattr\u001B[39m(\u001B[38;5;28mself\u001B[39m, method)\n\u001B[1;32m--> 415\u001B[0m \u001B[38;5;28;01mreturn\u001B[39;00m visitor(node, \u001B[38;5;241m*\u001B[39m\u001B[38;5;241m*\u001B[39mkwargs)\n",
      "File \u001B[1;32m~\\Anaconda3\\lib\\site-packages\\pandas\\core\\computation\\expr.py:421\u001B[0m, in \u001B[0;36mBaseExprVisitor.visit_Module\u001B[1;34m(self, node, **kwargs)\u001B[0m\n\u001B[0;32m    419\u001B[0m     \u001B[38;5;28;01mraise\u001B[39;00m \u001B[38;5;167;01mSyntaxError\u001B[39;00m(\u001B[38;5;124m\"\u001B[39m\u001B[38;5;124monly a single expression is allowed\u001B[39m\u001B[38;5;124m\"\u001B[39m)\n\u001B[0;32m    420\u001B[0m expr \u001B[38;5;241m=\u001B[39m node\u001B[38;5;241m.\u001B[39mbody[\u001B[38;5;241m0\u001B[39m]\n\u001B[1;32m--> 421\u001B[0m \u001B[38;5;28;01mreturn\u001B[39;00m \u001B[38;5;28mself\u001B[39m\u001B[38;5;241m.\u001B[39mvisit(expr, \u001B[38;5;241m*\u001B[39m\u001B[38;5;241m*\u001B[39mkwargs)\n",
      "File \u001B[1;32m~\\Anaconda3\\lib\\site-packages\\pandas\\core\\computation\\expr.py:415\u001B[0m, in \u001B[0;36mBaseExprVisitor.visit\u001B[1;34m(self, node, **kwargs)\u001B[0m\n\u001B[0;32m    413\u001B[0m method \u001B[38;5;241m=\u001B[39m \u001B[38;5;124m\"\u001B[39m\u001B[38;5;124mvisit_\u001B[39m\u001B[38;5;124m\"\u001B[39m \u001B[38;5;241m+\u001B[39m \u001B[38;5;28mtype\u001B[39m(node)\u001B[38;5;241m.\u001B[39m\u001B[38;5;18m__name__\u001B[39m\n\u001B[0;32m    414\u001B[0m visitor \u001B[38;5;241m=\u001B[39m \u001B[38;5;28mgetattr\u001B[39m(\u001B[38;5;28mself\u001B[39m, method)\n\u001B[1;32m--> 415\u001B[0m \u001B[38;5;28;01mreturn\u001B[39;00m visitor(node, \u001B[38;5;241m*\u001B[39m\u001B[38;5;241m*\u001B[39mkwargs)\n",
      "File \u001B[1;32m~\\Anaconda3\\lib\\site-packages\\pandas\\core\\computation\\expr.py:424\u001B[0m, in \u001B[0;36mBaseExprVisitor.visit_Expr\u001B[1;34m(self, node, **kwargs)\u001B[0m\n\u001B[0;32m    423\u001B[0m \u001B[38;5;28;01mdef\u001B[39;00m \u001B[38;5;21mvisit_Expr\u001B[39m(\u001B[38;5;28mself\u001B[39m, node, \u001B[38;5;241m*\u001B[39m\u001B[38;5;241m*\u001B[39mkwargs):\n\u001B[1;32m--> 424\u001B[0m     \u001B[38;5;28;01mreturn\u001B[39;00m \u001B[38;5;28mself\u001B[39m\u001B[38;5;241m.\u001B[39mvisit(node\u001B[38;5;241m.\u001B[39mvalue, \u001B[38;5;241m*\u001B[39m\u001B[38;5;241m*\u001B[39mkwargs)\n",
      "File \u001B[1;32m~\\Anaconda3\\lib\\site-packages\\pandas\\core\\computation\\expr.py:415\u001B[0m, in \u001B[0;36mBaseExprVisitor.visit\u001B[1;34m(self, node, **kwargs)\u001B[0m\n\u001B[0;32m    413\u001B[0m method \u001B[38;5;241m=\u001B[39m \u001B[38;5;124m\"\u001B[39m\u001B[38;5;124mvisit_\u001B[39m\u001B[38;5;124m\"\u001B[39m \u001B[38;5;241m+\u001B[39m \u001B[38;5;28mtype\u001B[39m(node)\u001B[38;5;241m.\u001B[39m\u001B[38;5;18m__name__\u001B[39m\n\u001B[0;32m    414\u001B[0m visitor \u001B[38;5;241m=\u001B[39m \u001B[38;5;28mgetattr\u001B[39m(\u001B[38;5;28mself\u001B[39m, method)\n\u001B[1;32m--> 415\u001B[0m \u001B[38;5;28;01mreturn\u001B[39;00m visitor(node, \u001B[38;5;241m*\u001B[39m\u001B[38;5;241m*\u001B[39mkwargs)\n",
      "File \u001B[1;32m~\\Anaconda3\\lib\\site-packages\\pandas\\core\\computation\\expr.py:723\u001B[0m, in \u001B[0;36mBaseExprVisitor.visit_Compare\u001B[1;34m(self, node, **kwargs)\u001B[0m\n\u001B[0;32m    721\u001B[0m     op \u001B[38;5;241m=\u001B[39m \u001B[38;5;28mself\u001B[39m\u001B[38;5;241m.\u001B[39mtranslate_In(ops[\u001B[38;5;241m0\u001B[39m])\n\u001B[0;32m    722\u001B[0m     binop \u001B[38;5;241m=\u001B[39m ast\u001B[38;5;241m.\u001B[39mBinOp(op\u001B[38;5;241m=\u001B[39mop, left\u001B[38;5;241m=\u001B[39mnode\u001B[38;5;241m.\u001B[39mleft, right\u001B[38;5;241m=\u001B[39mcomps[\u001B[38;5;241m0\u001B[39m])\n\u001B[1;32m--> 723\u001B[0m     \u001B[38;5;28;01mreturn\u001B[39;00m \u001B[38;5;28;43mself\u001B[39;49m\u001B[38;5;241;43m.\u001B[39;49m\u001B[43mvisit\u001B[49m\u001B[43m(\u001B[49m\u001B[43mbinop\u001B[49m\u001B[43m)\u001B[49m\n\u001B[0;32m    725\u001B[0m \u001B[38;5;66;03m# recursive case: we have a chained comparison, a CMP b CMP c, etc.\u001B[39;00m\n\u001B[0;32m    726\u001B[0m left \u001B[38;5;241m=\u001B[39m node\u001B[38;5;241m.\u001B[39mleft\n",
      "File \u001B[1;32m~\\Anaconda3\\lib\\site-packages\\pandas\\core\\computation\\expr.py:415\u001B[0m, in \u001B[0;36mBaseExprVisitor.visit\u001B[1;34m(self, node, **kwargs)\u001B[0m\n\u001B[0;32m    413\u001B[0m method \u001B[38;5;241m=\u001B[39m \u001B[38;5;124m\"\u001B[39m\u001B[38;5;124mvisit_\u001B[39m\u001B[38;5;124m\"\u001B[39m \u001B[38;5;241m+\u001B[39m \u001B[38;5;28mtype\u001B[39m(node)\u001B[38;5;241m.\u001B[39m\u001B[38;5;18m__name__\u001B[39m\n\u001B[0;32m    414\u001B[0m visitor \u001B[38;5;241m=\u001B[39m \u001B[38;5;28mgetattr\u001B[39m(\u001B[38;5;28mself\u001B[39m, method)\n\u001B[1;32m--> 415\u001B[0m \u001B[38;5;28;01mreturn\u001B[39;00m visitor(node, \u001B[38;5;241m*\u001B[39m\u001B[38;5;241m*\u001B[39mkwargs)\n",
      "File \u001B[1;32m~\\Anaconda3\\lib\\site-packages\\pandas\\core\\computation\\expr.py:536\u001B[0m, in \u001B[0;36mBaseExprVisitor.visit_BinOp\u001B[1;34m(self, node, **kwargs)\u001B[0m\n\u001B[0;32m    535\u001B[0m \u001B[38;5;28;01mdef\u001B[39;00m \u001B[38;5;21mvisit_BinOp\u001B[39m(\u001B[38;5;28mself\u001B[39m, node, \u001B[38;5;241m*\u001B[39m\u001B[38;5;241m*\u001B[39mkwargs):\n\u001B[1;32m--> 536\u001B[0m     op, op_class, left, right \u001B[38;5;241m=\u001B[39m \u001B[38;5;28;43mself\u001B[39;49m\u001B[38;5;241;43m.\u001B[39;49m\u001B[43m_maybe_transform_eq_ne\u001B[49m\u001B[43m(\u001B[49m\u001B[43mnode\u001B[49m\u001B[43m)\u001B[49m\n\u001B[0;32m    537\u001B[0m     left, right \u001B[38;5;241m=\u001B[39m \u001B[38;5;28mself\u001B[39m\u001B[38;5;241m.\u001B[39m_maybe_downcast_constants(left, right)\n\u001B[0;32m    538\u001B[0m     \u001B[38;5;28;01mreturn\u001B[39;00m \u001B[38;5;28mself\u001B[39m\u001B[38;5;241m.\u001B[39m_maybe_evaluate_binop(op, op_class, left, right)\n",
      "File \u001B[1;32m~\\Anaconda3\\lib\\site-packages\\pandas\\core\\computation\\expr.py:458\u001B[0m, in \u001B[0;36mBaseExprVisitor._maybe_transform_eq_ne\u001B[1;34m(self, node, left, right)\u001B[0m\n\u001B[0;32m    456\u001B[0m     left \u001B[38;5;241m=\u001B[39m \u001B[38;5;28mself\u001B[39m\u001B[38;5;241m.\u001B[39mvisit(node\u001B[38;5;241m.\u001B[39mleft, side\u001B[38;5;241m=\u001B[39m\u001B[38;5;124m\"\u001B[39m\u001B[38;5;124mleft\u001B[39m\u001B[38;5;124m\"\u001B[39m)\n\u001B[0;32m    457\u001B[0m \u001B[38;5;28;01mif\u001B[39;00m right \u001B[38;5;129;01mis\u001B[39;00m \u001B[38;5;28;01mNone\u001B[39;00m:\n\u001B[1;32m--> 458\u001B[0m     right \u001B[38;5;241m=\u001B[39m \u001B[38;5;28;43mself\u001B[39;49m\u001B[38;5;241;43m.\u001B[39;49m\u001B[43mvisit\u001B[49m\u001B[43m(\u001B[49m\u001B[43mnode\u001B[49m\u001B[38;5;241;43m.\u001B[39;49m\u001B[43mright\u001B[49m\u001B[43m,\u001B[49m\u001B[43m \u001B[49m\u001B[43mside\u001B[49m\u001B[38;5;241;43m=\u001B[39;49m\u001B[38;5;124;43m\"\u001B[39;49m\u001B[38;5;124;43mright\u001B[39;49m\u001B[38;5;124;43m\"\u001B[39;49m\u001B[43m)\u001B[49m\n\u001B[0;32m    459\u001B[0m op, op_class, left, right \u001B[38;5;241m=\u001B[39m \u001B[38;5;28mself\u001B[39m\u001B[38;5;241m.\u001B[39m_rewrite_membership_op(node, left, right)\n\u001B[0;32m    460\u001B[0m \u001B[38;5;28;01mreturn\u001B[39;00m op, op_class, left, right\n",
      "File \u001B[1;32m~\\Anaconda3\\lib\\site-packages\\pandas\\core\\computation\\expr.py:415\u001B[0m, in \u001B[0;36mBaseExprVisitor.visit\u001B[1;34m(self, node, **kwargs)\u001B[0m\n\u001B[0;32m    413\u001B[0m method \u001B[38;5;241m=\u001B[39m \u001B[38;5;124m\"\u001B[39m\u001B[38;5;124mvisit_\u001B[39m\u001B[38;5;124m\"\u001B[39m \u001B[38;5;241m+\u001B[39m \u001B[38;5;28mtype\u001B[39m(node)\u001B[38;5;241m.\u001B[39m\u001B[38;5;18m__name__\u001B[39m\n\u001B[0;32m    414\u001B[0m visitor \u001B[38;5;241m=\u001B[39m \u001B[38;5;28mgetattr\u001B[39m(\u001B[38;5;28mself\u001B[39m, method)\n\u001B[1;32m--> 415\u001B[0m \u001B[38;5;28;01mreturn\u001B[39;00m visitor(node, \u001B[38;5;241m*\u001B[39m\u001B[38;5;241m*\u001B[39mkwargs)\n",
      "File \u001B[1;32m~\\Anaconda3\\lib\\site-packages\\pandas\\core\\computation\\expr.py:549\u001B[0m, in \u001B[0;36mBaseExprVisitor.visit_Name\u001B[1;34m(self, node, **kwargs)\u001B[0m\n\u001B[0;32m    548\u001B[0m \u001B[38;5;28;01mdef\u001B[39;00m \u001B[38;5;21mvisit_Name\u001B[39m(\u001B[38;5;28mself\u001B[39m, node, \u001B[38;5;241m*\u001B[39m\u001B[38;5;241m*\u001B[39mkwargs):\n\u001B[1;32m--> 549\u001B[0m     \u001B[38;5;28;01mreturn\u001B[39;00m \u001B[38;5;28mself\u001B[39m\u001B[38;5;241m.\u001B[39mterm_type(node\u001B[38;5;241m.\u001B[39mid, \u001B[38;5;28mself\u001B[39m\u001B[38;5;241m.\u001B[39menv, \u001B[38;5;241m*\u001B[39m\u001B[38;5;241m*\u001B[39mkwargs)\n",
      "File \u001B[1;32m~\\Anaconda3\\lib\\site-packages\\pandas\\core\\computation\\ops.py:98\u001B[0m, in \u001B[0;36mTerm.__init__\u001B[1;34m(self, name, env, side, encoding)\u001B[0m\n\u001B[0;32m     96\u001B[0m tname \u001B[38;5;241m=\u001B[39m \u001B[38;5;28mstr\u001B[39m(name)\n\u001B[0;32m     97\u001B[0m \u001B[38;5;28mself\u001B[39m\u001B[38;5;241m.\u001B[39mis_local \u001B[38;5;241m=\u001B[39m tname\u001B[38;5;241m.\u001B[39mstartswith(LOCAL_TAG) \u001B[38;5;129;01mor\u001B[39;00m tname \u001B[38;5;129;01min\u001B[39;00m DEFAULT_GLOBALS\n\u001B[1;32m---> 98\u001B[0m \u001B[38;5;28mself\u001B[39m\u001B[38;5;241m.\u001B[39m_value \u001B[38;5;241m=\u001B[39m \u001B[38;5;28;43mself\u001B[39;49m\u001B[38;5;241;43m.\u001B[39;49m\u001B[43m_resolve_name\u001B[49m\u001B[43m(\u001B[49m\u001B[43m)\u001B[49m\n\u001B[0;32m     99\u001B[0m \u001B[38;5;28mself\u001B[39m\u001B[38;5;241m.\u001B[39mencoding \u001B[38;5;241m=\u001B[39m encoding\n",
      "File \u001B[1;32m~\\Anaconda3\\lib\\site-packages\\pandas\\core\\computation\\ops.py:115\u001B[0m, in \u001B[0;36mTerm._resolve_name\u001B[1;34m(self)\u001B[0m\n\u001B[0;32m    114\u001B[0m \u001B[38;5;28;01mdef\u001B[39;00m \u001B[38;5;21m_resolve_name\u001B[39m(\u001B[38;5;28mself\u001B[39m):\n\u001B[1;32m--> 115\u001B[0m     res \u001B[38;5;241m=\u001B[39m \u001B[38;5;28;43mself\u001B[39;49m\u001B[38;5;241;43m.\u001B[39;49m\u001B[43menv\u001B[49m\u001B[38;5;241;43m.\u001B[39;49m\u001B[43mresolve\u001B[49m\u001B[43m(\u001B[49m\u001B[38;5;28;43mself\u001B[39;49m\u001B[38;5;241;43m.\u001B[39;49m\u001B[43mlocal_name\u001B[49m\u001B[43m,\u001B[49m\u001B[43m \u001B[49m\u001B[43mis_local\u001B[49m\u001B[38;5;241;43m=\u001B[39;49m\u001B[38;5;28;43mself\u001B[39;49m\u001B[38;5;241;43m.\u001B[39;49m\u001B[43mis_local\u001B[49m\u001B[43m)\u001B[49m\n\u001B[0;32m    116\u001B[0m     \u001B[38;5;28mself\u001B[39m\u001B[38;5;241m.\u001B[39mupdate(res)\n\u001B[0;32m    118\u001B[0m     \u001B[38;5;28;01mif\u001B[39;00m \u001B[38;5;28mhasattr\u001B[39m(res, \u001B[38;5;124m\"\u001B[39m\u001B[38;5;124mndim\u001B[39m\u001B[38;5;124m\"\u001B[39m) \u001B[38;5;129;01mand\u001B[39;00m res\u001B[38;5;241m.\u001B[39mndim \u001B[38;5;241m>\u001B[39m \u001B[38;5;241m2\u001B[39m:\n",
      "File \u001B[1;32m~\\Anaconda3\\lib\\site-packages\\pandas\\core\\computation\\scope.py:211\u001B[0m, in \u001B[0;36mScope.resolve\u001B[1;34m(self, key, is_local)\u001B[0m\n\u001B[0;32m    207\u001B[0m \u001B[38;5;28;01mexcept\u001B[39;00m \u001B[38;5;167;01mKeyError\u001B[39;00m \u001B[38;5;28;01mas\u001B[39;00m err:\n\u001B[0;32m    208\u001B[0m     \u001B[38;5;66;03m# runtime import because ops imports from scope\u001B[39;00m\n\u001B[0;32m    209\u001B[0m     \u001B[38;5;28;01mfrom\u001B[39;00m \u001B[38;5;21;01mpandas\u001B[39;00m\u001B[38;5;21;01m.\u001B[39;00m\u001B[38;5;21;01mcore\u001B[39;00m\u001B[38;5;21;01m.\u001B[39;00m\u001B[38;5;21;01mcomputation\u001B[39;00m\u001B[38;5;21;01m.\u001B[39;00m\u001B[38;5;21;01mops\u001B[39;00m \u001B[38;5;28;01mimport\u001B[39;00m UndefinedVariableError\n\u001B[1;32m--> 211\u001B[0m     \u001B[38;5;28;01mraise\u001B[39;00m UndefinedVariableError(key, is_local) \u001B[38;5;28;01mfrom\u001B[39;00m \u001B[38;5;21;01merr\u001B[39;00m\n",
      "\u001B[1;31mUndefinedVariableError\u001B[0m: name 'PS' is not defined"
     ]
    }
   ],
   "source": [
    "#пыталась сделать срез не получилось, по идее тут должны быть и PS PS2 PS3 PS4\n",
    "sample_1 = data.query('platform == `PS`')\n",
    "sample_1"
   ]
  },
  {
   "cell_type": "code",
   "execution_count": 13,
   "id": "8546d805-2b7c-4de3-93cd-4543e94df7f9",
   "metadata": {
    "pycharm": {
     "name": "#%%\n"
    }
   },
   "outputs": [
    {
     "data": {
      "text/plain": [
       "array(['Wii', 'NES', 'GB', 'DS', 'X360', 'PS3', 'PS2', 'SNES', 'GBA',\n",
       "       'PS4', '3DS', 'N64', 'PS', 'XB', 'PC', '2600', 'PSP', 'XOne',\n",
       "       'WiiU', 'GC', 0, 'GEN', 'DC', 'PSV', 'SAT', 'SCD', 'WS', 'NG',\n",
       "       'TG16', '3DO', 'GG', 'PCFX'], dtype=object)"
      ]
     },
     "execution_count": 13,
     "metadata": {},
     "output_type": "execute_result"
    }
   ],
   "source": []
  },
  {
   "cell_type": "code",
   "execution_count": null,
   "id": "3da4ce95-c649-44a6-a057-e5a0aeebf73b",
   "metadata": {
    "pycharm": {
     "name": "#%%\n"
    }
   },
   "outputs": [],
   "source": [
    "# Средние пользовательские рейтинги жанров Action (англ. «действие», экшен-игры) и Sports (англ. «спортивные соревнования») разные.\n",
    "from scipy import stats as st\n",
    "sample_1 = #срез по столбцу user_score и отбором по жанру Action\n",
    "sample_2 = #срез по столбцу user_score и отбором по по жанру Sports\n",
    "results = st.ttest_ind(sample_1, sample_2, equal_var = False)\n",
    "print('p-значение: ', results.pvalue)\n",
    "\n",
    "alpha = .05\n",
    "\n",
    "if results.pvalue < alpha:\n",
    "    print(\"Отергаем нулевую гипотезу\")\n",
    "else:\n",
    "    print(\"Не получилось отвергнуть нулевую гипотезу\") "
   ]
  },
  {
   "cell_type": "markdown",
   "id": "9c413400-da33-4c78-92e8-239276cd1341",
   "metadata": {
    "pycharm": {
     "name": "#%% md\n"
    }
   },
   "source": [
    "__Вывод:__\n",
    "#Как вы сформулировали нулевую и альтернативную гипотезы;\n",
    "#Какой критерий применили для проверки гипотез и почему"
   ]
  },
  {
   "cell_type": "code",
   "execution_count": null,
   "id": "8dfbafab-b6da-48ac-adbe-550123bfb12c",
   "metadata": {
    "pycharm": {
     "name": "#%%\n"
    }
   },
   "outputs": [],
   "source": []
  }
 ],
 "metadata": {
  "kernelspec": {
   "display_name": "Python 3 (ipykernel)",
   "language": "python",
   "name": "python3"
  },
  "language_info": {
   "codemirror_mode": {
    "name": "ipython",
    "version": 3
   },
   "file_extension": ".py",
   "mimetype": "text/x-python",
   "name": "python",
   "nbconvert_exporter": "python",
   "pygments_lexer": "ipython3",
   "version": "3.9.12"
  }
 },
 "nbformat": 4,
 "nbformat_minor": 5
}