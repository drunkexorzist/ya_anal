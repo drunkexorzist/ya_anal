{
 "cells": [
  {
   "cell_type": "code",
   "execution_count": 325,
   "metadata": {
    "collapsed": true,
    "pycharm": {
     "name": "#%%\n"
    }
   },
   "outputs": [],
   "source": [
    "# подключаем нужны библиотеки\n",
    "import pandas as pd\n",
    "import numpy as np\n",
    "import matplotlib.pyplot as plt"
   ]
  },
  {
   "cell_type": "code",
   "execution_count": 326,
   "outputs": [],
   "source": [
    "# читаем файл\n",
    "\n",
    "try:\n",
    "    data = pd.read_csv('/datasets/games.csv')\n",
    "except:\n",
    "    data = pd.read_csv('games.csv')"
   ],
   "metadata": {
    "collapsed": false,
    "pycharm": {
     "name": "#%%\n"
    }
   }
  },
  {
   "cell_type": "markdown",
   "source": [
    "Шаг 2"
   ],
   "metadata": {
    "collapsed": false,
    "pycharm": {
     "name": "#%% md\n"
    }
   }
  },
  {
   "cell_type": "code",
   "execution_count": 327,
   "outputs": [],
   "source": [
    "# Приводим столбцы к нижнему регистру\n",
    "\n",
    "data.columns = map(str.lower, data.columns)"
   ],
   "metadata": {
    "collapsed": false,
    "pycharm": {
     "name": "#%%\n"
    }
   }
  },
  {
   "cell_type": "code",
   "execution_count": 328,
   "outputs": [
    {
     "data": {
      "text/plain": "                                name platform  year_of_release         genre  \\\n0                         Wii Sports      Wii           2006.0        Sports   \n1                  Super Mario Bros.      NES           1985.0      Platform   \n2                     Mario Kart Wii      Wii           2008.0        Racing   \n3                  Wii Sports Resort      Wii           2009.0        Sports   \n4           Pokemon Red/Pokemon Blue       GB           1996.0  Role-Playing   \n...                              ...      ...              ...           ...   \n16710  Samurai Warriors: Sanada Maru      PS3           2016.0        Action   \n16711               LMA Manager 2007     X360           2006.0        Sports   \n16712        Haitaka no Psychedelica      PSV           2016.0     Adventure   \n16713               Spirits & Spells      GBA           2003.0      Platform   \n16714            Winning Post 8 2016      PSV           2016.0    Simulation   \n\n       na_sales  eu_sales  jp_sales  other_sales  critic_score user_score  \\\n0         41.36     28.96      3.77         8.45          76.0          8   \n1         29.08      3.58      6.81         0.77           NaN        NaN   \n2         15.68     12.76      3.79         3.29          82.0        8.3   \n3         15.61     10.93      3.28         2.95          80.0          8   \n4         11.27      8.89     10.22         1.00           NaN        NaN   \n...         ...       ...       ...          ...           ...        ...   \n16710      0.00      0.00      0.01         0.00           NaN        NaN   \n16711      0.00      0.01      0.00         0.00           NaN        NaN   \n16712      0.00      0.00      0.01         0.00           NaN        NaN   \n16713      0.01      0.00      0.00         0.00           NaN        NaN   \n16714      0.00      0.00      0.01         0.00           NaN        NaN   \n\n      rating  \n0          E  \n1        NaN  \n2          E  \n3          E  \n4        NaN  \n...      ...  \n16710    NaN  \n16711    NaN  \n16712    NaN  \n16713    NaN  \n16714    NaN  \n\n[16715 rows x 11 columns]",
      "text/html": "<div>\n<style scoped>\n    .dataframe tbody tr th:only-of-type {\n        vertical-align: middle;\n    }\n\n    .dataframe tbody tr th {\n        vertical-align: top;\n    }\n\n    .dataframe thead th {\n        text-align: right;\n    }\n</style>\n<table border=\"1\" class=\"dataframe\">\n  <thead>\n    <tr style=\"text-align: right;\">\n      <th></th>\n      <th>name</th>\n      <th>platform</th>\n      <th>year_of_release</th>\n      <th>genre</th>\n      <th>na_sales</th>\n      <th>eu_sales</th>\n      <th>jp_sales</th>\n      <th>other_sales</th>\n      <th>critic_score</th>\n      <th>user_score</th>\n      <th>rating</th>\n    </tr>\n  </thead>\n  <tbody>\n    <tr>\n      <th>0</th>\n      <td>Wii Sports</td>\n      <td>Wii</td>\n      <td>2006.0</td>\n      <td>Sports</td>\n      <td>41.36</td>\n      <td>28.96</td>\n      <td>3.77</td>\n      <td>8.45</td>\n      <td>76.0</td>\n      <td>8</td>\n      <td>E</td>\n    </tr>\n    <tr>\n      <th>1</th>\n      <td>Super Mario Bros.</td>\n      <td>NES</td>\n      <td>1985.0</td>\n      <td>Platform</td>\n      <td>29.08</td>\n      <td>3.58</td>\n      <td>6.81</td>\n      <td>0.77</td>\n      <td>NaN</td>\n      <td>NaN</td>\n      <td>NaN</td>\n    </tr>\n    <tr>\n      <th>2</th>\n      <td>Mario Kart Wii</td>\n      <td>Wii</td>\n      <td>2008.0</td>\n      <td>Racing</td>\n      <td>15.68</td>\n      <td>12.76</td>\n      <td>3.79</td>\n      <td>3.29</td>\n      <td>82.0</td>\n      <td>8.3</td>\n      <td>E</td>\n    </tr>\n    <tr>\n      <th>3</th>\n      <td>Wii Sports Resort</td>\n      <td>Wii</td>\n      <td>2009.0</td>\n      <td>Sports</td>\n      <td>15.61</td>\n      <td>10.93</td>\n      <td>3.28</td>\n      <td>2.95</td>\n      <td>80.0</td>\n      <td>8</td>\n      <td>E</td>\n    </tr>\n    <tr>\n      <th>4</th>\n      <td>Pokemon Red/Pokemon Blue</td>\n      <td>GB</td>\n      <td>1996.0</td>\n      <td>Role-Playing</td>\n      <td>11.27</td>\n      <td>8.89</td>\n      <td>10.22</td>\n      <td>1.00</td>\n      <td>NaN</td>\n      <td>NaN</td>\n      <td>NaN</td>\n    </tr>\n    <tr>\n      <th>...</th>\n      <td>...</td>\n      <td>...</td>\n      <td>...</td>\n      <td>...</td>\n      <td>...</td>\n      <td>...</td>\n      <td>...</td>\n      <td>...</td>\n      <td>...</td>\n      <td>...</td>\n      <td>...</td>\n    </tr>\n    <tr>\n      <th>16710</th>\n      <td>Samurai Warriors: Sanada Maru</td>\n      <td>PS3</td>\n      <td>2016.0</td>\n      <td>Action</td>\n      <td>0.00</td>\n      <td>0.00</td>\n      <td>0.01</td>\n      <td>0.00</td>\n      <td>NaN</td>\n      <td>NaN</td>\n      <td>NaN</td>\n    </tr>\n    <tr>\n      <th>16711</th>\n      <td>LMA Manager 2007</td>\n      <td>X360</td>\n      <td>2006.0</td>\n      <td>Sports</td>\n      <td>0.00</td>\n      <td>0.01</td>\n      <td>0.00</td>\n      <td>0.00</td>\n      <td>NaN</td>\n      <td>NaN</td>\n      <td>NaN</td>\n    </tr>\n    <tr>\n      <th>16712</th>\n      <td>Haitaka no Psychedelica</td>\n      <td>PSV</td>\n      <td>2016.0</td>\n      <td>Adventure</td>\n      <td>0.00</td>\n      <td>0.00</td>\n      <td>0.01</td>\n      <td>0.00</td>\n      <td>NaN</td>\n      <td>NaN</td>\n      <td>NaN</td>\n    </tr>\n    <tr>\n      <th>16713</th>\n      <td>Spirits &amp; Spells</td>\n      <td>GBA</td>\n      <td>2003.0</td>\n      <td>Platform</td>\n      <td>0.01</td>\n      <td>0.00</td>\n      <td>0.00</td>\n      <td>0.00</td>\n      <td>NaN</td>\n      <td>NaN</td>\n      <td>NaN</td>\n    </tr>\n    <tr>\n      <th>16714</th>\n      <td>Winning Post 8 2016</td>\n      <td>PSV</td>\n      <td>2016.0</td>\n      <td>Simulation</td>\n      <td>0.00</td>\n      <td>0.00</td>\n      <td>0.01</td>\n      <td>0.00</td>\n      <td>NaN</td>\n      <td>NaN</td>\n      <td>NaN</td>\n    </tr>\n  </tbody>\n</table>\n<p>16715 rows × 11 columns</p>\n</div>"
     },
     "execution_count": 328,
     "metadata": {},
     "output_type": "execute_result"
    }
   ],
   "source": [
    "# Проверяем вывод датафрейма\n",
    "\n",
    "data"
   ],
   "metadata": {
    "collapsed": false,
    "pycharm": {
     "name": "#%%\n"
    }
   }
  },
  {
   "cell_type": "code",
   "execution_count": 329,
   "outputs": [
    {
     "name": "stdout",
     "output_type": "stream",
     "text": [
      "<class 'pandas.core.frame.DataFrame'>\n",
      "RangeIndex: 16715 entries, 0 to 16714\n",
      "Data columns (total 11 columns):\n",
      " #   Column           Non-Null Count  Dtype  \n",
      "---  ------           --------------  -----  \n",
      " 0   name             16713 non-null  object \n",
      " 1   platform         16715 non-null  object \n",
      " 2   year_of_release  16446 non-null  float64\n",
      " 3   genre            16713 non-null  object \n",
      " 4   na_sales         16715 non-null  float64\n",
      " 5   eu_sales         16715 non-null  float64\n",
      " 6   jp_sales         16715 non-null  float64\n",
      " 7   other_sales      16715 non-null  float64\n",
      " 8   critic_score     8137 non-null   float64\n",
      " 9   user_score       10014 non-null  object \n",
      " 10  rating           9949 non-null   object \n",
      "dtypes: float64(6), object(5)\n",
      "memory usage: 1.4+ MB\n"
     ]
    }
   ],
   "source": [
    "# Проверяем типы данных столбцов\n",
    "\n",
    "data.info()"
   ],
   "metadata": {
    "collapsed": false,
    "pycharm": {
     "name": "#%%\n"
    }
   }
  },
  {
   "cell_type": "code",
   "execution_count": 330,
   "outputs": [],
   "source": [
    "# Обрабатываем пропуски\n",
    "# critic_score - описание почему tbd = 0 выше. Nan значение заменяем на 0\n",
    "# user_score - Nan значение заменяем на 0\n",
    "\n",
    "# TODO: по фатку все что Nan заменилост на 0, в rating возможно критично\n",
    "\n",
    "data = data.fillna(0)"
   ],
   "metadata": {
    "collapsed": false,
    "pycharm": {
     "name": "#%%\n"
    }
   }
  },
  {
   "cell_type": "code",
   "execution_count": 331,
   "outputs": [
    {
     "data": {
      "text/plain": "                                name platform  year_of_release         genre  \\\n0                         Wii Sports      Wii             2006        Sports   \n1                  Super Mario Bros.      NES             1985      Platform   \n2                     Mario Kart Wii      Wii             2008        Racing   \n3                  Wii Sports Resort      Wii             2009        Sports   \n4           Pokemon Red/Pokemon Blue       GB             1996  Role-Playing   \n...                              ...      ...              ...           ...   \n16710  Samurai Warriors: Sanada Maru      PS3             2016        Action   \n16711               LMA Manager 2007     X360             2006        Sports   \n16712        Haitaka no Psychedelica      PSV             2016     Adventure   \n16713               Spirits & Spells      GBA             2003      Platform   \n16714            Winning Post 8 2016      PSV             2016    Simulation   \n\n       na_sales  eu_sales  jp_sales  other_sales  critic_score  user_score  \\\n0         41.36     28.96      3.77         8.45          76.0         8.0   \n1         29.08      3.58      6.81         0.77           0.0         0.0   \n2         15.68     12.76      3.79         3.29          82.0         8.3   \n3         15.61     10.93      3.28         2.95          80.0         8.0   \n4         11.27      8.89     10.22         1.00           0.0         0.0   \n...         ...       ...       ...          ...           ...         ...   \n16710      0.00      0.00      0.01         0.00           0.0         0.0   \n16711      0.00      0.01      0.00         0.00           0.0         0.0   \n16712      0.00      0.00      0.01         0.00           0.0         0.0   \n16713      0.01      0.00      0.00         0.00           0.0         0.0   \n16714      0.00      0.00      0.01         0.00           0.0         0.0   \n\n      rating  \n0          E  \n1          0  \n2          E  \n3          E  \n4          0  \n...      ...  \n16710      0  \n16711      0  \n16712      0  \n16713      0  \n16714      0  \n\n[16715 rows x 11 columns]",
      "text/html": "<div>\n<style scoped>\n    .dataframe tbody tr th:only-of-type {\n        vertical-align: middle;\n    }\n\n    .dataframe tbody tr th {\n        vertical-align: top;\n    }\n\n    .dataframe thead th {\n        text-align: right;\n    }\n</style>\n<table border=\"1\" class=\"dataframe\">\n  <thead>\n    <tr style=\"text-align: right;\">\n      <th></th>\n      <th>name</th>\n      <th>platform</th>\n      <th>year_of_release</th>\n      <th>genre</th>\n      <th>na_sales</th>\n      <th>eu_sales</th>\n      <th>jp_sales</th>\n      <th>other_sales</th>\n      <th>critic_score</th>\n      <th>user_score</th>\n      <th>rating</th>\n    </tr>\n  </thead>\n  <tbody>\n    <tr>\n      <th>0</th>\n      <td>Wii Sports</td>\n      <td>Wii</td>\n      <td>2006</td>\n      <td>Sports</td>\n      <td>41.36</td>\n      <td>28.96</td>\n      <td>3.77</td>\n      <td>8.45</td>\n      <td>76.0</td>\n      <td>8.0</td>\n      <td>E</td>\n    </tr>\n    <tr>\n      <th>1</th>\n      <td>Super Mario Bros.</td>\n      <td>NES</td>\n      <td>1985</td>\n      <td>Platform</td>\n      <td>29.08</td>\n      <td>3.58</td>\n      <td>6.81</td>\n      <td>0.77</td>\n      <td>0.0</td>\n      <td>0.0</td>\n      <td>0</td>\n    </tr>\n    <tr>\n      <th>2</th>\n      <td>Mario Kart Wii</td>\n      <td>Wii</td>\n      <td>2008</td>\n      <td>Racing</td>\n      <td>15.68</td>\n      <td>12.76</td>\n      <td>3.79</td>\n      <td>3.29</td>\n      <td>82.0</td>\n      <td>8.3</td>\n      <td>E</td>\n    </tr>\n    <tr>\n      <th>3</th>\n      <td>Wii Sports Resort</td>\n      <td>Wii</td>\n      <td>2009</td>\n      <td>Sports</td>\n      <td>15.61</td>\n      <td>10.93</td>\n      <td>3.28</td>\n      <td>2.95</td>\n      <td>80.0</td>\n      <td>8.0</td>\n      <td>E</td>\n    </tr>\n    <tr>\n      <th>4</th>\n      <td>Pokemon Red/Pokemon Blue</td>\n      <td>GB</td>\n      <td>1996</td>\n      <td>Role-Playing</td>\n      <td>11.27</td>\n      <td>8.89</td>\n      <td>10.22</td>\n      <td>1.00</td>\n      <td>0.0</td>\n      <td>0.0</td>\n      <td>0</td>\n    </tr>\n    <tr>\n      <th>...</th>\n      <td>...</td>\n      <td>...</td>\n      <td>...</td>\n      <td>...</td>\n      <td>...</td>\n      <td>...</td>\n      <td>...</td>\n      <td>...</td>\n      <td>...</td>\n      <td>...</td>\n      <td>...</td>\n    </tr>\n    <tr>\n      <th>16710</th>\n      <td>Samurai Warriors: Sanada Maru</td>\n      <td>PS3</td>\n      <td>2016</td>\n      <td>Action</td>\n      <td>0.00</td>\n      <td>0.00</td>\n      <td>0.01</td>\n      <td>0.00</td>\n      <td>0.0</td>\n      <td>0.0</td>\n      <td>0</td>\n    </tr>\n    <tr>\n      <th>16711</th>\n      <td>LMA Manager 2007</td>\n      <td>X360</td>\n      <td>2006</td>\n      <td>Sports</td>\n      <td>0.00</td>\n      <td>0.01</td>\n      <td>0.00</td>\n      <td>0.00</td>\n      <td>0.0</td>\n      <td>0.0</td>\n      <td>0</td>\n    </tr>\n    <tr>\n      <th>16712</th>\n      <td>Haitaka no Psychedelica</td>\n      <td>PSV</td>\n      <td>2016</td>\n      <td>Adventure</td>\n      <td>0.00</td>\n      <td>0.00</td>\n      <td>0.01</td>\n      <td>0.00</td>\n      <td>0.0</td>\n      <td>0.0</td>\n      <td>0</td>\n    </tr>\n    <tr>\n      <th>16713</th>\n      <td>Spirits &amp; Spells</td>\n      <td>GBA</td>\n      <td>2003</td>\n      <td>Platform</td>\n      <td>0.01</td>\n      <td>0.00</td>\n      <td>0.00</td>\n      <td>0.00</td>\n      <td>0.0</td>\n      <td>0.0</td>\n      <td>0</td>\n    </tr>\n    <tr>\n      <th>16714</th>\n      <td>Winning Post 8 2016</td>\n      <td>PSV</td>\n      <td>2016</td>\n      <td>Simulation</td>\n      <td>0.00</td>\n      <td>0.00</td>\n      <td>0.01</td>\n      <td>0.00</td>\n      <td>0.0</td>\n      <td>0.0</td>\n      <td>0</td>\n    </tr>\n  </tbody>\n</table>\n<p>16715 rows × 11 columns</p>\n</div>"
     },
     "execution_count": 331,
     "metadata": {},
     "output_type": "execute_result"
    }
   ],
   "source": [
    "# Преобразовываем данные к нужному типу\n",
    "# year_of_release - преобразуем в int64, так как указывается только год\n",
    "# user_score - преобразуем в float64, tbd заменяем на 0. tbd значит что оценка еще не выставлена, значит равна 0\n",
    "\n",
    "data['year_of_release'] = data['year_of_release'].apply(np.int64)\n",
    "data[data['user_score'] == 'tbd'] = 0\n",
    "data['user_score'] = data['user_score'].astype(np.float64)\n",
    "data"
   ],
   "metadata": {
    "collapsed": false,
    "pycharm": {
     "name": "#%%\n"
    }
   }
  },
  {
   "cell_type": "code",
   "execution_count": 332,
   "outputs": [],
   "source": [
    "# Считаем суммарные продажи по регионам\n",
    "\n",
    "data['sales_sum'] = data['na_sales'].sum() + data['eu_sales'].sum() + data['jp_sales'].sum()"
   ],
   "metadata": {
    "collapsed": false,
    "pycharm": {
     "name": "#%%\n"
    }
   }
  },
  {
   "cell_type": "markdown",
   "source": [
    "Шаг 3"
   ],
   "metadata": {
    "collapsed": false,
    "pycharm": {
     "name": "#%% md\n"
    }
   }
  },
  {
   "cell_type": "code",
   "execution_count": 333,
   "outputs": [
    {
     "data": {
      "text/plain": "                 name\nyear_of_release      \n0                2645\n1980                9\n1981               46\n1982               36\n1983               17\n1984               14\n1985               14\n1986               21\n1987               16\n1988               15\n1989               17\n1990               16\n1991               41\n1992               43\n1993               62\n1994              121\n1995              219\n1996              263\n1997              288\n1998              379\n1999              330\n2000              307\n2001              400\n2002              637\n2003              680\n2004              655\n2005              818\n2006              882\n2007             1005\n2008             1101\n2009             1021\n2010              924\n2011              919\n2012              629\n2013              529\n2014              560\n2015              568\n2016              468",
      "text/html": "<div>\n<style scoped>\n    .dataframe tbody tr th:only-of-type {\n        vertical-align: middle;\n    }\n\n    .dataframe tbody tr th {\n        vertical-align: top;\n    }\n\n    .dataframe thead th {\n        text-align: right;\n    }\n</style>\n<table border=\"1\" class=\"dataframe\">\n  <thead>\n    <tr style=\"text-align: right;\">\n      <th></th>\n      <th>name</th>\n    </tr>\n    <tr>\n      <th>year_of_release</th>\n      <th></th>\n    </tr>\n  </thead>\n  <tbody>\n    <tr>\n      <th>0</th>\n      <td>2645</td>\n    </tr>\n    <tr>\n      <th>1980</th>\n      <td>9</td>\n    </tr>\n    <tr>\n      <th>1981</th>\n      <td>46</td>\n    </tr>\n    <tr>\n      <th>1982</th>\n      <td>36</td>\n    </tr>\n    <tr>\n      <th>1983</th>\n      <td>17</td>\n    </tr>\n    <tr>\n      <th>1984</th>\n      <td>14</td>\n    </tr>\n    <tr>\n      <th>1985</th>\n      <td>14</td>\n    </tr>\n    <tr>\n      <th>1986</th>\n      <td>21</td>\n    </tr>\n    <tr>\n      <th>1987</th>\n      <td>16</td>\n    </tr>\n    <tr>\n      <th>1988</th>\n      <td>15</td>\n    </tr>\n    <tr>\n      <th>1989</th>\n      <td>17</td>\n    </tr>\n    <tr>\n      <th>1990</th>\n      <td>16</td>\n    </tr>\n    <tr>\n      <th>1991</th>\n      <td>41</td>\n    </tr>\n    <tr>\n      <th>1992</th>\n      <td>43</td>\n    </tr>\n    <tr>\n      <th>1993</th>\n      <td>62</td>\n    </tr>\n    <tr>\n      <th>1994</th>\n      <td>121</td>\n    </tr>\n    <tr>\n      <th>1995</th>\n      <td>219</td>\n    </tr>\n    <tr>\n      <th>1996</th>\n      <td>263</td>\n    </tr>\n    <tr>\n      <th>1997</th>\n      <td>288</td>\n    </tr>\n    <tr>\n      <th>1998</th>\n      <td>379</td>\n    </tr>\n    <tr>\n      <th>1999</th>\n      <td>330</td>\n    </tr>\n    <tr>\n      <th>2000</th>\n      <td>307</td>\n    </tr>\n    <tr>\n      <th>2001</th>\n      <td>400</td>\n    </tr>\n    <tr>\n      <th>2002</th>\n      <td>637</td>\n    </tr>\n    <tr>\n      <th>2003</th>\n      <td>680</td>\n    </tr>\n    <tr>\n      <th>2004</th>\n      <td>655</td>\n    </tr>\n    <tr>\n      <th>2005</th>\n      <td>818</td>\n    </tr>\n    <tr>\n      <th>2006</th>\n      <td>882</td>\n    </tr>\n    <tr>\n      <th>2007</th>\n      <td>1005</td>\n    </tr>\n    <tr>\n      <th>2008</th>\n      <td>1101</td>\n    </tr>\n    <tr>\n      <th>2009</th>\n      <td>1021</td>\n    </tr>\n    <tr>\n      <th>2010</th>\n      <td>924</td>\n    </tr>\n    <tr>\n      <th>2011</th>\n      <td>919</td>\n    </tr>\n    <tr>\n      <th>2012</th>\n      <td>629</td>\n    </tr>\n    <tr>\n      <th>2013</th>\n      <td>529</td>\n    </tr>\n    <tr>\n      <th>2014</th>\n      <td>560</td>\n    </tr>\n    <tr>\n      <th>2015</th>\n      <td>568</td>\n    </tr>\n    <tr>\n      <th>2016</th>\n      <td>468</td>\n    </tr>\n  </tbody>\n</table>\n</div>"
     },
     "execution_count": 333,
     "metadata": {},
     "output_type": "execute_result"
    }
   ],
   "source": [
    "# Смотрим сколько игр выпускалось в разные годы\n",
    "\n",
    "data[['year_of_release', 'name']].groupby('year_of_release').count()"
   ],
   "metadata": {
    "collapsed": false,
    "pycharm": {
     "name": "#%%\n"
    }
   }
  },
  {
   "cell_type": "markdown",
   "source": [
    "Объем выпущенных игр до 1994 года не превывашет 100, и только после начинается рост. Есть смысл только на период с 1994 по 2016.\n"
   ],
   "metadata": {
    "collapsed": false,
    "pycharm": {
     "name": "#%% md\n"
    }
   }
  },
  {
   "cell_type": "code",
   "execution_count": 344,
   "outputs": [
    {
     "data": {
      "text/plain": "array([[  9],\n       [ 46],\n       [ 36],\n       [ 11],\n       [  1],\n       [  1],\n       [  2],\n       [  6],\n       [  2],\n       [  2],\n       [  1],\n       [  2],\n       [ 91],\n       [ 89],\n       [ 87],\n       [ 71],\n       [ 77],\n       [ 43],\n       [  7],\n       [ 14],\n       [ 20],\n       [  8],\n       [  1],\n       [  1],\n       [  1],\n       [  1],\n       [ 22],\n       [101],\n       [166],\n       [273],\n       [309],\n       [217],\n       [179],\n       [ 91],\n       [ 15],\n       [  3],\n       [  1],\n       [ 10],\n       [  3],\n       [  9],\n       [  7],\n       [  3],\n       [  4],\n       [  6],\n       [  8],\n       [  8],\n       [ 11],\n       [ 17],\n       [ 10],\n       [  1],\n       [ 63],\n       [115],\n       [114],\n       [127],\n       [ 98],\n       [ 30],\n       [  5],\n       [ 20],\n       [116],\n       [125],\n       [ 68],\n       [ 79],\n       [ 32],\n       [  2],\n       [  1],\n       [  1],\n       [  6],\n       [  9],\n       [ 12],\n       [  1],\n       [ 18],\n       [ 49],\n       [ 77],\n       [102],\n       [ 60],\n       [  9],\n       [  1],\n       [  6],\n       [ 13],\n       [ 11],\n       [ 19],\n       [ 10],\n       [ 11],\n       [  5],\n       [  8],\n       [  7],\n       [  3],\n       [  4],\n       [  1],\n       [  2],\n       [  4],\n       [  4],\n       [  2],\n       [  1],\n       [  1],\n       [  5],\n       [  6],\n       [  2],\n       [  4],\n       [  6],\n       [  8],\n       [  6],\n       [  7],\n       [ 15],\n       [ 18],\n       [ 33],\n       [ 30],\n       [ 36],\n       [ 50],\n       [ 60],\n       [ 69],\n       [ 96],\n       [ 84],\n       [126],\n       [ 61],\n       [ 38],\n       [ 46],\n       [ 48],\n       [ 52],\n       [  1],\n       [ 17],\n       [ 99],\n       [164],\n       [187],\n       [248],\n       [193],\n       [133],\n       [ 82],\n       [ 20],\n       [  3],\n       [ 66],\n       [164],\n       [245],\n       [245],\n       [245],\n       [245],\n       [241],\n       [183],\n       [148],\n       [ 74],\n       [ 29],\n       [  6],\n       [ 26],\n       [ 88],\n       [131],\n       [150],\n       [165],\n       [192],\n       [145],\n       [125],\n       [103],\n       [ 62],\n       [ 32],\n       [ 16],\n       [ 75],\n       [136],\n       [159],\n       [ 14],\n       [ 92],\n       [158],\n       [113],\n       [ 86],\n       [135],\n       [172],\n       [134],\n       [104],\n       [ 54],\n       [ 10],\n       [  3],\n       [ 18],\n       [ 53],\n       [ 63],\n       [100],\n       [104],\n       [ 84],\n       [ 19],\n       [ 52],\n       [ 38],\n       [ 34],\n       [ 29],\n       [  1],\n       [  1],\n       [  5],\n       [  4],\n       [ 24],\n       [ 21],\n       [ 46],\n       [ 53],\n       [ 54],\n       [ 30],\n       [  4],\n       [  2],\n       [  1],\n       [  2],\n       [  2],\n       [  2],\n       [  2],\n       [ 41],\n       [162],\n       [218],\n       [192],\n       [126],\n       [ 82],\n       [ 25],\n       [  8],\n       [  3],\n       [  1],\n       [ 32],\n       [ 42],\n       [ 30],\n       [ 27],\n       [ 11],\n       [ 18],\n       [ 92],\n       [115],\n       [138],\n       [157],\n       [169],\n       [179],\n       [105],\n       [ 74],\n       [ 61],\n       [ 33],\n       [  8],\n       [  1],\n       [ 27],\n       [121],\n       [160],\n       [149],\n       [149],\n       [ 46],\n       [  3],\n       [  1],\n       [ 19],\n       [ 61],\n       [ 77],\n       [ 79]])"
     },
     "execution_count": 344,
     "metadata": {},
     "output_type": "execute_result"
    }
   ],
   "source": [
    "# Смотрим суммарные продажи по платформам по годам. Для этого формируем фрейм [Платформа, Год, сумма продаж]\n",
    "# Нормализуем данные, отсекаем года и платформы с Nan значениями\n",
    "\n",
    "plot_df = data[['platform', 'year_of_release', 'name']][(data['platform'] !=0) & (data['year_of_release'] != 0)].groupby(['platform', 'year_of_release']).count()\n",
    "np.array(plot_df)"
   ],
   "metadata": {
    "collapsed": false,
    "pycharm": {
     "name": "#%%\n"
    }
   }
  }
 ],
 "metadata": {
  "kernelspec": {
   "display_name": "Python 3",
   "language": "python",
   "name": "python3"
  },
  "language_info": {
   "codemirror_mode": {
    "name": "ipython",
    "version": 2
   },
   "file_extension": ".py",
   "mimetype": "text/x-python",
   "name": "python",
   "nbconvert_exporter": "python",
   "pygments_lexer": "ipython2",
   "version": "2.7.6"
  }
 },
 "nbformat": 4,
 "nbformat_minor": 0
}